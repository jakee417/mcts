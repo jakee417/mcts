{
 "cells": [
  {
   "cell_type": "code",
   "execution_count": 1,
   "metadata": {},
   "outputs": [],
   "source": [
    "import numpy as np\n",
    "import pandas as pd\n",
    "from src.mcts import mcts\n",
    "from src.node import MCTSNode\n",
    "from src.open_ai import get_candidates_fn, get_simulation_fn, get_reward_fn\n",
    "from IPython.display import display, Markdown\n",
    "from src.utils import create_graph_html\n",
    "\n",
    "np.random.seed(1)"
   ]
  },
  {
   "cell_type": "code",
   "execution_count": 2,
   "metadata": {},
   "outputs": [],
   "source": [
    "# Chinese text we want to translate (from Twenty Thousand Leagues Under the Sea).\n",
    "CHINESE = \"这事大体是这样：不久以前，好些大船在海上碰见了一一个“庞然大物”，一个很长的物体，形状很像纺锤，有时发出磷光，它的体积比鲸鱼大得多，行动起来也比鲸鱼快得多。\"\n",
    "# Official translation (as given by http://bilinguis.com/book/verne20k/en/zh/p1c1/).\n",
    "ORIGINAL = 'In essence, over a period of time several ships had encountered \"an enormous thing\" at sea, a long spindle-shaped object, sometimes giving off a phosphorescent glow, infinitely bigger and faster than any whale.'\n",
    "# The translation given by google translate.\n",
    "GOOGLE_TRANSLATE = 'The story goes something like this: Not long ago, a number of large ships encountered a \"monster\" at sea, a very long object, shaped like a spindle, sometimes emitting phosphorescence. It was much larger than a whale and moved much faster than a whale.'"
   ]
  },
  {
   "cell_type": "code",
   "execution_count": 3,
   "metadata": {},
   "outputs": [],
   "source": [
    "# This few shot prompt will be used for expansion and simulation.\n",
    "generation_prompt = f\"\"\"Chinese text needs to be translated into English.\n",
    "- Do not provide any context or description, just the translation.\n",
    "- A user will start the translation. Complete the translation without repeating what has already been translated.\n",
    "\n",
    "Translate the following:\n",
    "{CHINESE}\n",
    "\"\"\""
   ]
  },
  {
   "cell_type": "code",
   "execution_count": 4,
   "metadata": {},
   "outputs": [],
   "source": [
    "# This prompt will be used for calculating the reward with an LLM judge.\n",
    "example_1 = '{\"completeness\": 1.0, \"correctness\": 0.6, \"elegance\": 0.5}'\n",
    "example_2 = '{\"completeness\": 1.0, \"correctness\": 0.95, \"elegance\": 1.0}'\n",
    "reward_prompt = f\"\"\"Provide scores between 0 and 1 of how well the english has been translated from Chinese. Respond in json format for the following keys:\n",
    "- 'correctness' value between 0 and 1 - if each pinyin token correctly translates into english tokens.\n",
    "- 'brevity' value between 0 and 1 - if there is no redundancy in the translation.\n",
    "- 'elegance' value between 0 and 1 - if the translation matches the original prose and is pleasurable to read.\n",
    "\n",
    "Example:\n",
    "Pinyin: shuǐ dī shí chuān.\n",
    "English: Dropping water can penetrate the stone, sometimes.\n",
    "Response: {example_1}\n",
    "\n",
    "Chinese: 學而時習之，不亦悅乎？\n",
    "English: To learn and to practice what is learned time and again is pleasure, is it not?\n",
    "Response: {example_2}\n",
    "\n",
    "Translate the following:\n",
    "{CHINESE}\n",
    "\"\"\""
   ]
  },
  {
   "cell_type": "code",
   "execution_count": 5,
   "metadata": {},
   "outputs": [
    {
     "name": "stdout",
     "output_type": "stream",
     "text": [
      "{'actions': [['root']]}\n",
      "{'step': 0, 'actions': [['expansion'], ['simulation'], ['reward']], 'reward': 0.917}\n",
      "{'step': 1, 'actions': [['selection'], ['expansion'], ['simulation'], ['reward']], 'reward': 0.95}\n",
      "{'step': 2, 'actions': [['selection'], ['expansion'], ['simulation'], ['reward']], 'reward': 0.95}\n",
      "{'step': 3, 'actions': [['selection'], ['selection'], ['expansion'], ['simulation'], ['reward']], 'reward': 0.933}\n",
      "{'step': 4, 'actions': [['selection'], ['selection'], ['expansion'], ['simulation'], ['reward']], 'reward': 0.95}\n",
      "{'step': 5, 'actions': [['selection'], ['selection'], ['selection'], ['expansion'], ['simulation'], ['reward']], 'reward': 0.917}\n",
      "{'step': 6, 'actions': [['selection'], ['selection'], ['expansion'], ['simulation'], ['reward']], 'reward': 0.933}\n",
      "{'step': 7, 'actions': [['selection'], ['expansion'], ['simulation'], ['reward']], 'reward': 0.967}\n",
      "{'step': 8, 'actions': [['selection'], ['selection'], ['expansion'], ['simulation'], ['reward']], 'reward': 0.95}\n",
      "{'step': 9, 'actions': [['selection'], ['selection'], ['selection'], ['expansion'], ['simulation'], ['reward']], 'reward': 0.95}\n",
      "{'step': 10, 'actions': [['selection'], ['selection'], ['expansion'], ['simulation'], ['reward']], 'reward': 0.95}\n",
      "{'step': 11, 'actions': [['selection'], ['expansion'], ['simulation'], ['reward']], 'reward': 0.95}\n",
      "{'step': 12, 'actions': [['selection'], ['selection'], ['expansion'], ['simulation'], ['reward']], 'reward': 0.95}\n",
      "{'step': 13, 'actions': [['selection'], ['selection'], ['selection'], ['expansion'], ['simulation'], ['reward']], 'reward': 0.917}\n",
      "{'step': 14, 'actions': [['selection'], ['selection'], ['expansion'], ['simulation'], ['reward']], 'reward': 0.95}\n",
      "{'step': 15, 'actions': [['selection'], ['selection'], ['selection'], ['expansion'], ['simulation'], ['reward']], 'reward': 0.95}\n"
     ]
    }
   ],
   "source": [
    "# Run MCTS and visualize the algorithm's history.\n",
    "root, node, history = mcts(\n",
    "    get_candidates_fn=get_candidates_fn(\n",
    "        prompt=generation_prompt,\n",
    "        # Consider candidates which add at most 5 tokens.\n",
    "        max_completion_tokens=5,\n",
    "        # Consider 3 alternatives at each step.\n",
    "        top_logprobs=3,\n",
    "        # Consider candidates with at least 3 tokens.\n",
    "        minimum_candidate_token_length=3,\n",
    "    ),\n",
    "    get_simulation_fn=get_simulation_fn(\n",
    "        prompt=generation_prompt,\n",
    "        # Do not limit how far we simulate.\n",
    "        max_completion_tokens=None,\n",
    "    ),\n",
    "    get_rewards_fn=get_reward_fn(prompt=reward_prompt),\n",
    "    # Number of total MCTS iterations. Each iteration will have a expansion, simulation, and reward API call.\n",
    "    max_rollouts=16,\n",
    "    # exploration constant\n",
    "    c=5.0,\n",
    "    # Print out the logging.\n",
    "    verbose=True,\n",
    ")"
   ]
  },
  {
   "cell_type": "code",
   "execution_count": 10,
   "metadata": {},
   "outputs": [],
   "source": [
    "# Find the simulations ordered by their reward value.\n",
    "simulations = sorted(\n",
    "    [v for i in history for k, v in i.items() if k == \"reward\"], key=lambda x: -x[-1]\n",
    ")"
   ]
  },
  {
   "cell_type": "code",
   "execution_count": 11,
   "metadata": {},
   "outputs": [],
   "source": [
    "# See what a one-shot generation without MCTS would give.\n",
    "one_shot = get_simulation_fn(prompt=generation_prompt)(\n",
    "    MCTSNode(prob=0.0, state=\"\", type=\"one_shot\")\n",
    ")"
   ]
  },
  {
   "cell_type": "code",
   "execution_count": 12,
   "metadata": {},
   "outputs": [
    {
     "data": {
      "text/markdown": [
       "|    | type                 | text                                                                                                                                                                                                                                                                                         |\n",
       "|---:|:---------------------|:---------------------------------------------------------------------------------------------------------------------------------------------------------------------------------------------------------------------------------------------------------------------------------------------|\n",
       "|  0 | Chinese              | 这事大体是这样：不久以前，好些大船在海上碰见了一一个“庞然大物”，一个很长的物体，形状很像纺锤，有时发出磷光，它的体积比鲸鱼大得多，行动起来也比鲸鱼快得多。                                                                                                                                   |\n",
       "|  1 | Author's Translation | In essence, over a period of time several ships had encountered \"an enormous thing\" at sea, a long spindle-shaped object, sometimes giving off a phosphorescent glow, infinitely bigger and faster than any whale.                                                                           |\n",
       "|  2 | Google Translate     | The story goes something like this: Not long ago, a number of large ships encountered a \"monster\" at sea, a very long object, shaped like a spindle, sometimes emitting phosphorescence. It was much larger than a whale and moved much faster than a whale.                                 |\n",
       "|  3 | One Shot             | This matter is generally as follows: Not long ago, several large ships encountered a \"colossal being\" in the sea, a very long object that was spindle-shaped, sometimes emitting phosphorescence. Its size was much larger than that of a whale, and it moved much faster than a whale.      |\n",
       "|  4 | MCTS #1              | This matter is generally as follows: Not long ago, several large ships encountered a \"colossal creature\" at sea, a very long object that resembled a spindle, sometimes emitting phosphorescent light. Its size was much larger than that of a whale, and it moved much faster than a whale. |\n",
       "|  5 | MCTS #2              | This matter is generally like this: not long ago, several large ships encountered a \"colossal creature\" in the sea, a very long object that was spindle-shaped, sometimes emitting phosphorescence. Its size was much larger than that of a whale, and it moved much faster than a whale.    |\n",
       "|  6 | MCTS #3              | This matter is generally like this: not long ago, several large ships encountered a \"colossal creature\" in the sea, a very long object that was spindle-shaped, sometimes emitting phosphorescence. Its size was much larger than that of a whale, and it moved much faster than a whale.    |"
      ],
      "text/plain": [
       "<IPython.core.display.Markdown object>"
      ]
     },
     "metadata": {},
     "output_type": "display_data"
    }
   ],
   "source": [
    "# Compare the various translations.\n",
    "top = 3\n",
    "display(\n",
    "    Markdown(\n",
    "        pd.DataFrame(\n",
    "            {\n",
    "                \"type\": [\n",
    "                    \"Chinese\",\n",
    "                    \"Author's Translation\",\n",
    "                    \"Google Translate\",\n",
    "                    \"One Shot\",\n",
    "                ]\n",
    "                + [f\"MCTS #{i + 1}\" for i in range(top)],\n",
    "                \"text\": [\n",
    "                    CHINESE,\n",
    "                    ORIGINAL,\n",
    "                    GOOGLE_TRANSLATE,\n",
    "                    one_shot,\n",
    "                ]\n",
    "                + [i[0] + \" \" + i[1] for i in simulations[:top]],\n",
    "            }\n",
    "        ).to_markdown()\n",
    "    )\n",
    ")"
   ]
  },
  {
   "cell_type": "code",
   "execution_count": 13,
   "metadata": {},
   "outputs": [
    {
     "name": "stdout",
     "output_type": "stream",
     "text": [
      "graph.html\n"
     ]
    }
   ],
   "source": [
    "# Visualize the trees with pyvis.\n",
    "create_graph_html(root=root, filename=\"graph.html\", height=\"300px\")"
   ]
  }
 ],
 "metadata": {
  "kernelspec": {
   "display_name": ".venv",
   "language": "python",
   "name": "python3"
  },
  "language_info": {
   "codemirror_mode": {
    "name": "ipython",
    "version": 3
   },
   "file_extension": ".py",
   "mimetype": "text/x-python",
   "name": "python",
   "nbconvert_exporter": "python",
   "pygments_lexer": "ipython3",
   "version": "3.13.1"
  }
 },
 "nbformat": 4,
 "nbformat_minor": 2
}
