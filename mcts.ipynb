{
 "cells": [
  {
   "cell_type": "code",
   "execution_count": 1,
   "metadata": {},
   "outputs": [],
   "source": [
    "import numpy as np\n",
    "import pandas as pd\n",
    "from src.mcts import mcts\n",
    "from src.node import MCTSNode\n",
    "from src.open_ai import get_candidates_fn, get_simulation_fn, get_reward_fn\n",
    "from src.utils import create_graph_html\n",
    "import logging\n",
    "\n",
    "logging.basicConfig()\n",
    "logging.getLogger().setLevel(logging.INFO)\n",
    "\n",
    "np.random.seed(1)"
   ]
  },
  {
   "cell_type": "code",
   "execution_count": 2,
   "metadata": {},
   "outputs": [],
   "source": [
    "ORIGINAL = \"In essence, over a period of time several ships had encountered \\\"an enormous thing\\\" at sea, a long spindle-shaped object, sometimes giving off a phosphorescent glow, infinitely bigger and faster than any whale.\"\n",
    "GOOGLE_TRANSLATE = \"The story goes something like this: Not long ago, a number of large ships encountered a \\\"monster\\\" at sea, a very long object, shaped like a spindle, sometimes emitting phosphorescence. It was much larger than a whale and moved much faster than a whale.\"\n",
    "CHINESE = \"这事大体是这样：不久以前，好些大船在海上碰见了一一个“庞然大物”，一个很长的物体，形状很像纺锤，有时发出磷光，它的体积比鲸鱼大得多，行动起来也比鲸鱼快得多。\""
   ]
  },
  {
   "cell_type": "code",
   "execution_count": 3,
   "metadata": {},
   "outputs": [],
   "source": [
    "def get_generation_prompt() -> str:\n",
    "    return f\"\"\"Chinese text needs to be translated into English.\n",
    "- Do not provide any context or description, just the translation.\n",
    "- A user will start the translation. Complete the translation without repeating what has already been translated.\n",
    "\n",
    "Translate the following:\n",
    "{CHINESE}\n",
    "\"\"\""
   ]
  },
  {
   "cell_type": "code",
   "execution_count": 4,
   "metadata": {},
   "outputs": [],
   "source": [
    "def get_reward_prompt() -> str:\n",
    "    return \"\"\"Provide scores between 0 and 1 of how well the english has been translated from Chinese. Respond in json format for the following keys:\n",
    "- 'correctness' value between 0 and 1 - if each pinyin token correctly translates into english tokens.\n",
    "- 'brevity' value between 0 and 1 - if there is no redundancy in the translation.\n",
    "- 'elegance' value between 0 and 1 - if the translation matches the original prose and is pleasurable to read.\n",
    "\n",
    "Example:\n",
    "Pinyin: shuǐ dī shí chuān.\n",
    "English: Dropping water can penetrate the stone, sometimes.\n",
    "Response: {example}\n",
    "\n",
    "Chinese: 學而時習之，不亦悅乎？\n",
    "English: To learn and to practice what is learned time and again is pleasure, is it not?\n",
    "Response: {example2}\n",
    "\n",
    "Translate the following:\n",
    "{pinyin}\"\"\".format(\n",
    "        pinyin=CHINESE,\n",
    "        example='{\"completeness\": 1.0, \"correctness\": 0.6, \"elegance\": 0.5}',\n",
    "        example2='{\"completeness\": 1.0, \"correctness\": 0.95, \"elegance\": 1.0}',\n",
    "    )"
   ]
  },
  {
   "cell_type": "code",
   "execution_count": 5,
   "metadata": {},
   "outputs": [
    {
     "name": "stderr",
     "output_type": "stream",
     "text": [
      "INFO:src.mcts:{'actions': [['root']]}\n",
      "INFO:httpx:HTTP Request: POST https://api.openai.com/v1/chat/completions \"HTTP/1.1 200 OK\"\n",
      "INFO:httpx:HTTP Request: POST https://api.openai.com/v1/chat/completions \"HTTP/1.1 200 OK\"\n",
      "INFO:httpx:HTTP Request: POST https://api.openai.com/v1/chat/completions \"HTTP/1.1 200 OK\"\n",
      "INFO:src.mcts:{'step': 0, 'actions': [['expansion'], ['simulation'], ['reward']], 'reward': 0.933}\n",
      "INFO:httpx:HTTP Request: POST https://api.openai.com/v1/chat/completions \"HTTP/1.1 200 OK\"\n",
      "INFO:httpx:HTTP Request: POST https://api.openai.com/v1/chat/completions \"HTTP/1.1 200 OK\"\n",
      "INFO:httpx:HTTP Request: POST https://api.openai.com/v1/chat/completions \"HTTP/1.1 200 OK\"\n",
      "INFO:src.mcts:{'step': 1, 'actions': [['selection'], ['expansion'], ['simulation'], ['reward']], 'reward': 0.933}\n",
      "INFO:httpx:HTTP Request: POST https://api.openai.com/v1/chat/completions \"HTTP/1.1 200 OK\"\n",
      "INFO:httpx:HTTP Request: POST https://api.openai.com/v1/chat/completions \"HTTP/1.1 200 OK\"\n",
      "INFO:httpx:HTTP Request: POST https://api.openai.com/v1/chat/completions \"HTTP/1.1 200 OK\"\n",
      "INFO:src.mcts:{'step': 2, 'actions': [['selection'], ['expansion'], ['simulation'], ['reward']], 'reward': 0.95}\n",
      "INFO:httpx:HTTP Request: POST https://api.openai.com/v1/chat/completions \"HTTP/1.1 200 OK\"\n",
      "INFO:httpx:HTTP Request: POST https://api.openai.com/v1/chat/completions \"HTTP/1.1 200 OK\"\n",
      "INFO:httpx:HTTP Request: POST https://api.openai.com/v1/chat/completions \"HTTP/1.1 200 OK\"\n",
      "INFO:src.mcts:{'step': 3, 'actions': [['selection'], ['expansion'], ['simulation'], ['reward']], 'reward': 0.933}\n",
      "INFO:httpx:HTTP Request: POST https://api.openai.com/v1/chat/completions \"HTTP/1.1 200 OK\"\n",
      "INFO:httpx:HTTP Request: POST https://api.openai.com/v1/chat/completions \"HTTP/1.1 200 OK\"\n",
      "INFO:httpx:HTTP Request: POST https://api.openai.com/v1/chat/completions \"HTTP/1.1 200 OK\"\n",
      "INFO:src.mcts:{'step': 4, 'actions': [['selection'], ['selection'], ['expansion'], ['simulation'], ['reward']], 'reward': 0.933}\n",
      "INFO:httpx:HTTP Request: POST https://api.openai.com/v1/chat/completions \"HTTP/1.1 200 OK\"\n",
      "INFO:httpx:HTTP Request: POST https://api.openai.com/v1/chat/completions \"HTTP/1.1 200 OK\"\n",
      "INFO:httpx:HTTP Request: POST https://api.openai.com/v1/chat/completions \"HTTP/1.1 200 OK\"\n",
      "INFO:src.mcts:{'step': 5, 'actions': [['selection'], ['selection'], ['expansion'], ['simulation'], ['reward']], 'reward': 0.9}\n",
      "INFO:httpx:HTTP Request: POST https://api.openai.com/v1/chat/completions \"HTTP/1.1 200 OK\"\n",
      "INFO:httpx:HTTP Request: POST https://api.openai.com/v1/chat/completions \"HTTP/1.1 200 OK\"\n",
      "INFO:src.mcts:{'step': 6, 'actions': [['selection'], ['selection'], ['expansion'], ['simulation'], ['reward']], 'reward': 0.95}\n",
      "INFO:httpx:HTTP Request: POST https://api.openai.com/v1/chat/completions \"HTTP/1.1 200 OK\"\n",
      "INFO:httpx:HTTP Request: POST https://api.openai.com/v1/chat/completions \"HTTP/1.1 200 OK\"\n",
      "INFO:httpx:HTTP Request: POST https://api.openai.com/v1/chat/completions \"HTTP/1.1 200 OK\"\n",
      "INFO:src.mcts:{'step': 7, 'actions': [['selection'], ['selection'], ['expansion'], ['simulation'], ['reward']], 'reward': 0.95}\n"
     ]
    }
   ],
   "source": [
    "root, node, history = mcts(\n",
    "    get_candidates_fn=get_candidates_fn(\n",
    "        prompt=get_generation_prompt(),\n",
    "        # Consider candidates with at most 10 tokens.\n",
    "        max_completion_tokens=10,\n",
    "        # Consider 3 alternatives at each step.\n",
    "        top_logprobs=3,\n",
    "        # Consider candidates with at least 5 tokens\n",
    "        minimum_candidate_token_length=7,\n",
    "    ),\n",
    "    get_simulation_fn=get_simulation_fn(prompt=get_generation_prompt()),\n",
    "    get_rewards_fn=get_reward_fn(prompt=get_reward_prompt()),\n",
    "    max_rollouts=8,\n",
    ")"
   ]
  },
  {
   "cell_type": "code",
   "execution_count": 6,
   "metadata": {},
   "outputs": [],
   "source": [
    "best_reward_state, best_reward = max(\n",
    "    [v for i in history for k, v in i.items() if k == \"reward\"], key=lambda x: x[1]\n",
    ")"
   ]
  },
  {
   "cell_type": "code",
   "execution_count": 7,
   "metadata": {},
   "outputs": [],
   "source": [
    "one_shot = get_simulation_fn(prompt=get_generation_prompt())(\n",
    "    MCTSNode(prob=0.0, state=\"\", type=\"one_shot\")\n",
    ")"
   ]
  },
  {
   "cell_type": "code",
   "execution_count": 8,
   "metadata": {},
   "outputs": [
    {
     "name": "stdout",
     "output_type": "stream",
     "text": [
      "|    | type                 | text                                                                                                                                                                                                                                                                                          |\n",
      "|---:|:---------------------|:----------------------------------------------------------------------------------------------------------------------------------------------------------------------------------------------------------------------------------------------------------------------------------------------|\n",
      "|  0 | Chinese              | 这事大体是这样：不久以前，好些大船在海上碰见了一一个“庞然大物”，一个很长的物体，形状很像纺锤，有时发出磷光，它的体积比鲸鱼大得多，行动起来也比鲸鱼快得多。                                                                                                                                    |\n",
      "|  1 | Author's Translation | In essence, over a period of time several ships had encountered \"an enormous thing\" at sea, a long spindle-shaped object, sometimes giving off a phosphorescent glow, infinitely bigger and faster than any whale.                                                                            |\n",
      "|  2 | Google Translate     | The story goes something like this: Not long ago, a number of large ships encountered a \"monster\" at sea, a very long object, shaped like a spindle, sometimes emitting phosphorescence. It was much larger than a whale and moved much faster than a whale.                                  |\n",
      "|  3 | One Shot             | This matter is generally as follows: Not long ago, several large ships encountered a \"colossal being\" in the sea, a very long object that resembled a spindle, sometimes emitting phosphorescent light; its size was much larger than that of a whale, and it moved much faster than a whale. |\n",
      "|  4 | MCTS                 | This matter is generally as follows: Not long ago, several large ships encountered a \"colossal creature\" in the sea, a very long object that was spindle-shaped, sometimes emitting phosphorescence. Its size was much larger than that of a whale, and it moved much faster than a whale.    |\n"
     ]
    }
   ],
   "source": [
    "print(\n",
    "    pd.DataFrame(\n",
    "        {\n",
    "            \"type\": [\n",
    "                \"Chinese\",\n",
    "                \"Author's Translation\",\n",
    "                \"Google Translate\",\n",
    "                \"One Shot\",\n",
    "                \"MCTS\",\n",
    "            ],\n",
    "            \"text\": [\n",
    "                CHINESE,\n",
    "                ORIGINAL,\n",
    "                GOOGLE_TRANSLATE,\n",
    "                one_shot,\n",
    "                best_reward_state,\n",
    "            ],\n",
    "        }\n",
    "    ).to_markdown()\n",
    ")"
   ]
  },
  {
   "cell_type": "code",
   "execution_count": 9,
   "metadata": {},
   "outputs": [
    {
     "name": "stdout",
     "output_type": "stream",
     "text": [
      "graph.html\n"
     ]
    }
   ],
   "source": [
    "create_graph_html(root=root, filename=\"graph.html\")"
   ]
  }
 ],
 "metadata": {
  "kernelspec": {
   "display_name": ".venv",
   "language": "python",
   "name": "python3"
  },
  "language_info": {
   "codemirror_mode": {
    "name": "ipython",
    "version": 3
   },
   "file_extension": ".py",
   "mimetype": "text/x-python",
   "name": "python",
   "nbconvert_exporter": "python",
   "pygments_lexer": "ipython3",
   "version": "3.10.9"
  }
 },
 "nbformat": 4,
 "nbformat_minor": 2
}
